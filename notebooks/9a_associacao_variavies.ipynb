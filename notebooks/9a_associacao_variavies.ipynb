{
 "cells": [
  {
   "cell_type": "markdown",
   "id": "41ac8aaf-03b5-44d5-851e-5907e06e80d0",
   "metadata": {},
   "source": [
    "# Associação entre variáveis"
   ]
  },
  {
   "cell_type": "markdown",
   "id": "27e7b709-e1c5-4cd0-872b-6b9291b7bd19",
   "metadata": {},
   "source": [
    "Tem como objetivo descrever simultaneamente a variabilidade de duas (ou mais)\n",
    "variáveis, de forma que cada conjunto de variáveis é observada para uma mesma unidade\n",
    "observacional (por exemplo pessoa, animal, planta, etc).\n",
    "\n",
    "Sejam $(x_{i},y_{i})$, $i = 1,...,n$ pares de observações de duas variáveis\n",
    "$x$ e $y$, que podem ser qualitativas ou quantitativas. A técnica mais adequada\n",
    "para avaliar a associação entre $x$ e $y$ por meio dos valores observados\n",
    "$(x_{i}, y_{i})$ depende do tipo de variáveis envolvidas. Para estudar a\n",
    "associação entre $x$ e $y$ precisamos de uma medida de associação, que deve avaliar\n",
    "se associação é forte ou fraca, positiva ou negativa. Outra possibilidade é a\n",
    "representação gráfica da associação entre $x$ e $y$"
   ]
  },
  {
   "cell_type": "markdown",
   "id": "22cb3280-04d9-4688-815b-0bf90995c987",
   "metadata": {},
   "source": [
    "## Tipos de relação entre variáveis"
   ]
  },
  {
   "cell_type": "markdown",
   "id": "bcaa08af-4a0f-4a6e-b302-15a494acdb61",
   "metadata": {},
   "source": [
    "- **Causal unilateral:** $y$ depdente de $x$ ou $x$ depende de $y$.\n",
    "$$x \\to y$$\n",
    "*Exemplo:* Preço da venda de um produto ($y$) depende do local de venda ($x$). \n",
    "\n",
    "- **Causal bilateral:** $y$ depende de $x$ e $x$ depende de $y$.\n",
    "$$x \\leftrightarrow y$$\n",
    "*Exemplo:* Peso ($x$) e a circunferência abdominal ($y$) de uma pessoa.\n",
    "\n",
    "- **Dependência indireta:** $x$ e $y$ são correlacionados.\n",
    "$$w \\to x, w \\to y$$\n",
    "*Exemplo:* Venda de sorvete na praia ($x$), casos de afogamento ($y$) e\n",
    "temperatura ($w$).\n",
    "\n",
    "**Correlação não implica em causalidade!** [Exemplos de correlações espúrias.](https://www.tylervigen.com/spurious-correlations)"
   ]
  },
  {
   "cell_type": "markdown",
   "id": "5bcf6140-e1d1-4bce-83f8-9bb444e96334",
   "metadata": {},
   "source": [
    "## Tipos de medidas e representações gŕaficas\n",
    "\n",
    "- **Associação de variáveis qualitativas:** tabelas de contingência,\n",
    "teste qui-quadrado e gráfico de mosaico.\n",
    "- **Associação de variáveis quantitativas** gráfico de dispersão,\n",
    "covariância, correlação e regressão linear.\n",
    "- **Associação entre variáveis qualitativas e quantitativas:** boxplots e teste para\n",
    "comparação de médias."
   ]
  },
  {
   "cell_type": "markdown",
   "id": "d4faeef7-240e-4616-a5c6-19de64c92783",
   "metadata": {},
   "source": [
    "# Associação de variáveis qualitativas"
   ]
  },
  {
   "cell_type": "code",
   "execution_count": null,
   "id": "651287bd-2b41-4514-9a90-13c17d14be11",
   "metadata": {},
   "outputs": [],
   "source": []
  }
 ],
 "metadata": {
  "kernelspec": {
   "display_name": "Python 3 (ipykernel)",
   "language": "python",
   "name": "python3"
  },
  "language_info": {
   "codemirror_mode": {
    "name": "ipython",
    "version": 3
   },
   "file_extension": ".py",
   "mimetype": "text/x-python",
   "name": "python",
   "nbconvert_exporter": "python",
   "pygments_lexer": "ipython3",
   "version": "3.9.17"
  }
 },
 "nbformat": 4,
 "nbformat_minor": 5
}
