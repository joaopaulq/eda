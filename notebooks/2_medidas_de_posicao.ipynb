{
 "cells": [
  {
   "cell_type": "markdown",
   "id": "fc8ab730-4180-41c4-b87c-d5787d2d996f",
   "metadata": {},
   "source": [
    "# Medidas de posição ou localização\n"
   ]
  },
  {
   "cell_type": "markdown",
   "id": "a8ed1aae-167a-4976-a29f-2506d4ac8d11",
   "metadata": {},
   "source": [
    "Muitas vezes queremos resumir os dados, apresentando um ou alguns valores que sejam representativos da série toda. Usualmente, emprega-se uma das seguintes medidas de posição (ou de localizaçaõ) central:\n",
    "\n",
    "- *Média*: boas propriedades estatísticas. (média aritmética, média geométrica, média harmônica, etc).\n",
    "- *Mediana*: medida resistente a dados atípicos.\n",
    "- *Moda*: valor mais frequente.\n",
    "- *Quantis*: caracterização da distribuição dos dados."
   ]
  },
  {
   "cell_type": "markdown",
   "id": "658f7330-9db8-4b07-95cb-892d3f69bf10",
   "metadata": {},
   "source": [
    "## Dados"
   ]
  },
  {
   "cell_type": "code",
   "execution_count": 14,
   "id": "97723f4a-4f26-4b17-b76e-e8207008f90b",
   "metadata": {},
   "outputs": [],
   "source": [
    "from matplotlib import pyplot as plt\n",
    "import seaborn as sns\n",
    "import pandas as pd\n",
    "from scipy import stats"
   ]
  },
  {
   "cell_type": "code",
   "execution_count": 15,
   "id": "22d3c9df-3cef-4bae-8e7b-3ea5a7b0ff57",
   "metadata": {},
   "outputs": [
    {
     "data": {
      "text/html": [
       "<div>\n",
       "<style scoped>\n",
       "    .dataframe tbody tr th:only-of-type {\n",
       "        vertical-align: middle;\n",
       "    }\n",
       "\n",
       "    .dataframe tbody tr th {\n",
       "        vertical-align: top;\n",
       "    }\n",
       "\n",
       "    .dataframe thead th {\n",
       "        text-align: right;\n",
       "    }\n",
       "</style>\n",
       "<table border=\"1\" class=\"dataframe\">\n",
       "  <thead>\n",
       "    <tr style=\"text-align: right;\">\n",
       "      <th></th>\n",
       "      <th>Cliente</th>\n",
       "      <th>Sexo</th>\n",
       "      <th>Idade</th>\n",
       "      <th>Empresa</th>\n",
       "      <th>Salario</th>\n",
       "      <th>Saldo_cc</th>\n",
       "      <th>Saldo_poupança</th>\n",
       "      <th>Saldo_investimento</th>\n",
       "      <th>Devedor_cartao</th>\n",
       "      <th>Inadimplente</th>\n",
       "    </tr>\n",
       "  </thead>\n",
       "  <tbody>\n",
       "    <tr>\n",
       "      <th>0</th>\n",
       "      <td>75928</td>\n",
       "      <td>M</td>\n",
       "      <td>32</td>\n",
       "      <td>Privada</td>\n",
       "      <td>5719.00</td>\n",
       "      <td>933.79</td>\n",
       "      <td>0.0</td>\n",
       "      <td>0.0</td>\n",
       "      <td>6023.68</td>\n",
       "      <td>0</td>\n",
       "    </tr>\n",
       "    <tr>\n",
       "      <th>1</th>\n",
       "      <td>52921</td>\n",
       "      <td>F</td>\n",
       "      <td>28</td>\n",
       "      <td>Privada</td>\n",
       "      <td>5064.00</td>\n",
       "      <td>628.37</td>\n",
       "      <td>0.0</td>\n",
       "      <td>0.0</td>\n",
       "      <td>1578.24</td>\n",
       "      <td>0</td>\n",
       "    </tr>\n",
       "    <tr>\n",
       "      <th>2</th>\n",
       "      <td>8387</td>\n",
       "      <td>F</td>\n",
       "      <td>24</td>\n",
       "      <td>Autônomo</td>\n",
       "      <td>4739.00</td>\n",
       "      <td>889.18</td>\n",
       "      <td>0.0</td>\n",
       "      <td>0.0</td>\n",
       "      <td>2578.70</td>\n",
       "      <td>0</td>\n",
       "    </tr>\n",
       "    <tr>\n",
       "      <th>3</th>\n",
       "      <td>54522</td>\n",
       "      <td>M</td>\n",
       "      <td>30</td>\n",
       "      <td>Pública</td>\n",
       "      <td>5215.00</td>\n",
       "      <td>1141.47</td>\n",
       "      <td>0.0</td>\n",
       "      <td>0.0</td>\n",
       "      <td>4348.96</td>\n",
       "      <td>0</td>\n",
       "    </tr>\n",
       "    <tr>\n",
       "      <th>4</th>\n",
       "      <td>45397</td>\n",
       "      <td>M</td>\n",
       "      <td>30</td>\n",
       "      <td>Autônomo</td>\n",
       "      <td>5215.56</td>\n",
       "      <td>520.70</td>\n",
       "      <td>0.0</td>\n",
       "      <td>0.0</td>\n",
       "      <td>1516.78</td>\n",
       "      <td>1</td>\n",
       "    </tr>\n",
       "  </tbody>\n",
       "</table>\n",
       "</div>"
      ],
      "text/plain": [
       "   Cliente Sexo  Idade   Empresa  Salario  Saldo_cc  Saldo_poupança  \\\n",
       "0    75928    M     32   Privada  5719.00    933.79             0.0   \n",
       "1    52921    F     28   Privada  5064.00    628.37             0.0   \n",
       "2     8387    F     24  Autônomo  4739.00    889.18             0.0   \n",
       "3    54522    M     30   Pública  5215.00   1141.47             0.0   \n",
       "4    45397    M     30  Autônomo  5215.56    520.70             0.0   \n",
       "\n",
       "   Saldo_investimento  Devedor_cartao  Inadimplente  \n",
       "0                 0.0         6023.68             0  \n",
       "1                 0.0         1578.24             0  \n",
       "2                 0.0         2578.70             0  \n",
       "3                 0.0         4348.96             0  \n",
       "4                 0.0         1516.78             1  "
      ]
     },
     "execution_count": 15,
     "metadata": {},
     "output_type": "execute_result"
    }
   ],
   "source": [
    "df = pd.read_csv('../data/dados_banco.csv', sep=',')\n",
    "df.head()"
   ]
  },
  {
   "cell_type": "markdown",
   "id": "5dba27fe-0ede-4702-a516-8665e8b2c74b",
   "metadata": {},
   "source": [
    "## Média"
   ]
  },
  {
   "cell_type": "markdown",
   "id": "166c3d8b-7d8e-4188-9176-2aea8ee81ae3",
   "metadata": {},
   "source": [
    "Em geral, não é possível calcular a média populacional de uma variável, $\\mu$. Usa-se então um estimador, por exemplo a média\n",
    "amostral, ou seja, a média que será obtida de uma amostra (representativa) da população (estimativa). Vamos estabelecer que $X_{1}, ..., X_{n}$ é uma amostra aleatória e $x_{1}, ..., x_{n}$ os dados observados dessa amostra. As medidas aqui apresentadas são amostrais e são obtidas a partir de $x_{1}, ..., x_{n}$.\n",
    "\n",
    "A média aritmética é definida como:\n",
    "\n",
    "$$\\bar{x} = \\frac{\\sum \\limits _{i=1} ^{n} x_{i}}{n}$$\n",
    "\n",
    "**Vantagens da média**\n",
    "\n",
    "- Fácil interpretação: A média é intuitiva e fácil de interpretar e calcular.\n",
    "- Utilidade em cálculos subsequentes: A média é uma medida que pode ser usada em cálculos posteriores, como desvios em relação à média, cálculo de variância e desvio padrão. Ela serve como base para várias outras medidas estatísticas.\n",
    "\n",
    "**Desvantagens da média**\n",
    "- Sensibilidade a valores extremos: A média pode ser influenciada por valores extremos (outliers) em um conjunto de dados. Se houver valores discrepantes, eles podem distorcer significativamente a média, tornando-a menos representativa do conjunto de dados como um todo.\n",
    "- Não é adequada para distribuições assimétricas: Em distribuições assimétricas, como distribuições com caudas longas, a média pode não ser uma medida representativa da localização central dos dados. A mediana, que representa o valor do meio quando os dados são ordenados, pode ser mais apropriada nessas situações.\n",
    "- Dependência da escala: A média é sensível à escala dos dados. Se os dados estiverem em diferentes escalas ou unidades de medida, a média pode ser distorcida. É importante considerar a escala dos dados e o contexto antes de interpretar a média."
   ]
  },
  {
   "cell_type": "code",
   "execution_count": 38,
   "id": "3923ab5b-0b7c-407a-baca-8bdd8bee1bc2",
   "metadata": {},
   "outputs": [],
   "source": [
    "X = 'Idade'"
   ]
  },
  {
   "cell_type": "code",
   "execution_count": 39,
   "id": "eb14da3e-e772-4755-94c4-8e5897909434",
   "metadata": {},
   "outputs": [
    {
     "data": {
      "text/plain": [
       "31.8019"
      ]
     },
     "execution_count": 39,
     "metadata": {},
     "output_type": "execute_result"
    }
   ],
   "source": [
    "df[X].mean()"
   ]
  },
  {
   "cell_type": "code",
   "execution_count": 40,
   "id": "64b1626e-17aa-4bff-a065-cfd6af715af8",
   "metadata": {},
   "outputs": [
    {
     "data": {
      "text/plain": [
       "Empresa\n",
       "Autônomo    29.163787\n",
       "Privada     32.867115\n",
       "Pública     30.706531\n",
       "Name: Idade, dtype: float64"
      ]
     },
     "execution_count": 40,
     "metadata": {},
     "output_type": "execute_result"
    }
   ],
   "source": [
    "df.groupby('Empresa')[X].mean()"
   ]
  },
  {
   "cell_type": "markdown",
   "id": "1f4ba4c8-340a-4846-abd0-4093b2e4241e",
   "metadata": {},
   "source": [
    "## Mediana"
   ]
  },
  {
   "cell_type": "markdown",
   "id": "00c290b0-b99e-41ce-aef4-4cd693d7fbce",
   "metadata": {},
   "source": [
    "Considere agora os dados ordenados $x_{(1)}, ..., x_{(n)}$, isto é, $$x_{(1)} = min(x_{1}, ..., x_{n})$$ $$x_{(n)} = max(x_{1}, ..., x_{n})$$ **Qual é a posição central dos dados?**\n",
    "\n",
    "Se $n$ é ímpar, a posição central é $c = \\frac{(n + 1)}{2}$.\n",
    "\n",
    "Se $n$ é par, as posições centrais são $c = \\frac{n}{2}$ e $c + 1 = \\frac{n}{2} + 1$.\n",
    "\n",
    "A **mediana** é definida como:\n",
    "$$\n",
    "    \\tilde{x}= \n",
    "\\begin{cases}\n",
    "    x_{(c)},                    & \\text{se } n \\text{ é ímpar} \\\\\n",
    "    \\frac{x_{(c)} + x_{(c+1)}}{2}, & \\text{se } n \\text{ é par}\n",
    "\\end{cases}\n",
    "$$\n",
    "\n",
    "**Vantagens da mediana**\n",
    "- Resistência a valores extremos: A mediana é menos sensível a valores extremos em comparação com a média. Ela é calculada identificando o valor do meio dos dados ordenados, o que significa que valores discrepantes têm um impacto limitado na sua estimativa. Isso faz com que a mediana seja uma medida mais robusta em situações em que existem outliers ou dados assimétricos.\n",
    "\n",
    "- Adequada para distribuições assimétricas: A mediana é particularmente útil em distribuições assimétricas, onde a média pode ser influenciada pela assimetria. Ela representa o valor central que divide a distribuição em duas partes iguais, sendo assim uma medida que reflete melhor a localização central dos dados em distribuições assimétricas.\n",
    "\n",
    "- Aplicável a dados categóricos ordinais: Ao contrário da média, a mediana pode ser calculada para variáveis categóricas ordinais. Ela pode ser usada para identificar o valor central em uma escala ordinal, onde há uma ordem natural entre as categorias.\n",
    "\n",
    "**Desvantagens da mediana**\n",
    "\n",
    "- Perda de informações: A mediana é uma medida de tendência central que apenas considera o valor do meio dos dados ordenados. Isso implica em uma perda de informação sobre a distribuição dos valores ao redor do ponto central. Em alguns casos, isso pode ser indesejado, especialmente quando se deseja uma visão mais completa da distribuição dos dados.\n",
    "\n",
    "- Dificuldade de cálculo: Ao contrário da média, que pode ser calculada diretamente usando a fórmula adequada, a mediana requer que os dados sejam ordenados antes do cálculo. Isso pode ser um processo mais demorado e complexo, especialmente em grandes conjuntos de dados.\n",
    "\n",
    "- Menor interpretabilidade: Embora a mediana possa ser facilmente compreendida, a sua interpretação pode ser um pouco menos intuitiva do que a média. Enquanto a média representa um valor médio, a mediana representa o valor do meio. Em certos contextos, pode ser necessário explicar o conceito de ordenação dos dados para uma melhor compreensão da mediana."
   ]
  },
  {
   "cell_type": "code",
   "execution_count": 41,
   "id": "34af8511-fdde-4792-bc30-f107ad168033",
   "metadata": {},
   "outputs": [
    {
     "data": {
      "text/plain": [
       "32.0"
      ]
     },
     "execution_count": 41,
     "metadata": {},
     "output_type": "execute_result"
    }
   ],
   "source": [
    "df[X].median()"
   ]
  },
  {
   "cell_type": "code",
   "execution_count": 42,
   "id": "36b1b9e8-703a-4313-a185-a8b9ee7f0c8c",
   "metadata": {},
   "outputs": [
    {
     "data": {
      "text/plain": [
       "Empresa\n",
       "Autônomo    29.0\n",
       "Privada     33.0\n",
       "Pública     31.0\n",
       "Name: Idade, dtype: float64"
      ]
     },
     "execution_count": 42,
     "metadata": {},
     "output_type": "execute_result"
    }
   ],
   "source": [
    "df.groupby('Empresa')[X].median()"
   ]
  },
  {
   "cell_type": "markdown",
   "id": "bd73db2a-1286-4945-86cc-b974db1d712a",
   "metadata": {},
   "source": [
    "## Moda"
   ]
  },
  {
   "cell_type": "markdown",
   "id": "edf739df-68a9-4389-959b-14a734b04f3e",
   "metadata": {},
   "source": [
    "A moda $Mo$ é o valor mais frequente da amostra. Uma amostra pode ter uma moda, mais de uma moda, ou a moda pode não existir. Exemplos:\n",
    "- `[1, 2, 2, 3, 4]`. $Mo = $ `[2]`\n",
    "- `[1, 2, 2, 3, 3, 4]`. $Mo = $ `[2, 3]`\n",
    "- `[1, 2, 3, 4]`. $Mo = $ Não existe"
   ]
  },
  {
   "cell_type": "code",
   "execution_count": 43,
   "id": "0aa4a9d5-3116-43f9-8c29-ffb8c4e849c6",
   "metadata": {},
   "outputs": [
    {
     "data": {
      "text/plain": [
       "ModeResult(mode=32, count=1343)"
      ]
     },
     "execution_count": 43,
     "metadata": {},
     "output_type": "execute_result"
    }
   ],
   "source": [
    "stats.mode(df[X])"
   ]
  },
  {
   "cell_type": "code",
   "execution_count": 44,
   "id": "d53fe0eb-574e-4d07-a6e6-8066f9478dcd",
   "metadata": {},
   "outputs": [
    {
     "data": {
      "text/plain": [
       "Empresa\n",
       "Autônomo    (29, 197)\n",
       "Privada     (33, 976)\n",
       "Pública     (31, 507)\n",
       "Name: Idade, dtype: object"
      ]
     },
     "execution_count": 44,
     "metadata": {},
     "output_type": "execute_result"
    }
   ],
   "source": [
    "df.groupby('Empresa')[X].apply(stats.mode)"
   ]
  },
  {
   "cell_type": "markdown",
   "id": "fc8d5026-e8b8-4871-b737-7ec481974948",
   "metadata": {},
   "source": [
    "## Quantis"
   ]
  },
  {
   "cell_type": "markdown",
   "id": "ca5097fe-8aca-4fd9-951d-aff192ac5876",
   "metadata": {},
   "source": [
    "Um quantil é o valor que provoca uma divisão conveniente nos\n",
    "valores ordenados.\n",
    "- O quantil de 10%, $q_{10}$, divide os dados de tal forma que 10% dos menores valores sejam menores que ele.\n",
    "- O quantil de 50%, $q_{50}$ é a mediana.\n",
    "- Os quartis $Q_{1}$, $Q_{2}$ e $Q_{3}$ dividem os dados em porções de 25%.\n",
    "- Os decis dividem os dados em porções de 10%, $d_{\\alpha}$.\n",
    "- Os percentis dividem os dados em porções de 1%, $p_{\\alpha}$."
   ]
  },
  {
   "cell_type": "code",
   "execution_count": 45,
   "id": "494d35e9-ed9e-4d6c-a0b1-4233ec109792",
   "metadata": {},
   "outputs": [
    {
     "data": {
      "text/plain": [
       "count    10000.000000\n",
       "mean        31.801900\n",
       "std          2.931913\n",
       "min         21.000000\n",
       "25%         30.000000\n",
       "50%         32.000000\n",
       "75%         34.000000\n",
       "max         50.000000\n",
       "Name: Idade, dtype: float64"
      ]
     },
     "execution_count": 45,
     "metadata": {},
     "output_type": "execute_result"
    }
   ],
   "source": [
    "df[X].describe()"
   ]
  },
  {
   "cell_type": "code",
   "execution_count": 46,
   "id": "da59f761-db03-467f-b941-629afe465dfa",
   "metadata": {},
   "outputs": [],
   "source": [
    "mean = df[X].mean()\n",
    "median = df[X].median()\n",
    "mode = stats.mode(df[X])[0]"
   ]
  },
  {
   "cell_type": "markdown",
   "id": "f5e712c1-cdb4-42e0-bb4b-d800baea4f14",
   "metadata": {},
   "source": [
    "## Observações\n",
    "- A média aritmética pode ser calculada a partir dos dados brutos, sem recorrer a qualquer agrupamento ou ordenação dos valores originais, o que não ocorre com a mediana e a moda.\n",
    "- A mediana é preferível à média quando se está interessado em conhecer exatamente o ponto médio da distribuição, aquele valor que divide os dados em duas partes iguais.\n",
    "- A moda é utilizada essencialmente quando pretendemos apenas uma medida rápida e aproximada da tendência central."
   ]
  },
  {
   "cell_type": "code",
   "execution_count": 47,
   "id": "0e462597-eb3e-4ec9-b15e-ca216ae75039",
   "metadata": {},
   "outputs": [
    {
     "data": {
      "image/png": "[encoded data removed]",
      "text/plain": [
       "<Figure size 640x480 with 2 Axes>"
      ]
     },
     "metadata": {},
     "output_type": "display_data"
    }
   ],
   "source": [
    "fig, ax1 = plt.subplots()\n",
    "ax1.hist(df[X], bins=8, edgecolor='black', alpha=0.7)\n",
    "\n",
    "ax2 = ax1.twinx()\n",
    "sns.kdeplot(df[X], color='purple')\n",
    "ax2.axvline(mean, color='red', linestyle='--', label='Média')\n",
    "ax2.axvline(median, color='green', linestyle='-', label='Mediana')\n",
    "ax2.axvline(mode, color='blue', linestyle='-', label='Moda')\n",
    "\n",
    "plt.legend()\n",
    "plt.title(f\"Distribuição da variável {X}\")\n",
    "plt.xlabel(X)\n",
    "plt.ylabel(\"Nº de Clientes\")\n",
    "plt.show()"
   ]
  }
 ],
 "metadata": {
  "kernelspec": {
   "display_name": "Python 3 (ipykernel)",
   "language": "python",
   "name": "python3"
  },
  "language_info": {
   "codemirror_mode": {
    "name": "ipython",
    "version": 3
   },
   "file_extension": ".py",
   "mimetype": "text/x-python",
   "name": "python",
   "nbconvert_exporter": "python",
   "pygments_lexer": "ipython3",
   "version": "3.9.17"
  }
 },
 "nbformat": 4,
 "nbformat_minor": 5
}
