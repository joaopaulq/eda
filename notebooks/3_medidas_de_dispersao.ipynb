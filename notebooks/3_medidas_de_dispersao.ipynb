{
 "cells": [
  {
   "cell_type": "markdown",
   "id": "fbcb706b-3efd-4dcc-86e6-1e289328da4f",
   "metadata": {},
   "source": [
    "## Medidas de dispersão"
   ]
  },
  {
   "cell_type": "markdown",
   "id": "4c9903a7-abb6-4024-859f-a59061765db3",
   "metadata": {},
   "source": [
    "- *Variância*: mede o quão distantes os valores individuais estão da média dos dados.\n",
    "- *Desvio-padrão*: utilizada para expressar a dispersão dos dados em termos da unidade de medida original dos dados.\n",
    "- *Amplitude*: indica a diferença entre o maior e o menor valor em um conjunto de dados.\n",
    "- *Coeficiente de variação*: usado para comparar a dispersão entre conjuntos de dados que possuem médias diferentes ou escalas de medida diferentes.\n",
    "\n",
    "**Medidas de Assimetria**\n",
    "- *Coeficiente de assimetria*: mede o grau de desvio ou assimetria da distribuição em relação à sua média.\n",
    "\n",
    "**Medidas de Curtose**\n",
    "- *Coeficiente de curtose*: descreve a forma da distribuição dos dados em relação à sua concentração na região central e à presença de caudas pesadas ou leves.\n",
    "\n",
    "**Medidas de associação**\n",
    "- *Covariância*: quantifica a relação linear bruta entre duas variáveis.\n",
    "- *Coeficiente de correlação de Pearson*: quantifica a força e a direção da relação linear entre duas variáveis.\n",
    "- *Coeficiente de correlação de Spearman*: quantifica a relação monotônica entre duas variáveis. (não pressupõe uma relação linear entre as variáveis)"
   ]
  }
 ],
 "metadata": {
  "kernelspec": {
   "display_name": "Python 3 (ipykernel)",
   "language": "python",
   "name": "python3"
  },
  "language_info": {
   "codemirror_mode": {
    "name": "ipython",
    "version": 3
   },
   "file_extension": ".py",
   "mimetype": "text/x-python",
   "name": "python",
   "nbconvert_exporter": "python",
   "pygments_lexer": "ipython3",
   "version": "3.9.17"
  }
 },
 "nbformat": 4,
 "nbformat_minor": 5
}
