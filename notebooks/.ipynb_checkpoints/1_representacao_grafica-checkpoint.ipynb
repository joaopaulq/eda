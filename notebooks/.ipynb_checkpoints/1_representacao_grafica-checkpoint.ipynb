{
 "cells": [
  {
   "cell_type": "markdown",
   "id": "b95a48c6-3ad1-45a7-a6a1-8d3c91b03e2b",
   "metadata": {},
   "source": [
    "# Natureza dos dados"
   ]
  },
  {
   "cell_type": "markdown",
   "id": "a88f5b43-bfae-40a5-81e8-008e9e6e814c",
   "metadata": {},
   "source": [
    "Trataremos aqui de dados retangulares, que tem nas linhas as unidades amostrais e nas colunas as variáveis.\n",
    "\n",
    "**Variável**: Qualquer característica dos elementos em estudo e que temos\n",
    "interesse em medir de alguma forma.\n",
    "\n",
    "**Variáveis Qualitativas**\n",
    "- *Nominais*: sexo, cor da pele, status de fumante (fumante ou não-fumante), classificação de inadimplente (sim ou não).\n",
    "- *Ordinais*: escolaridade (em categorias), grau de satisfação (muito satisfeito, satisfeito, insatisfeito, muito insatisfeito), idade (em faixas).\n",
    "\n",
    "**Variáveis Quantitativas**\n",
    "- *Discretas*: número de defeitos em uma peça, número de produtos contratados.\n",
    "- *Contínuas*: peso, idade, pressão sanguínea, valor contratado de um produto."
   ]
  },
  {
   "cell_type": "code",
   "execution_count": 10,
   "id": "9e34a02a-2b2d-4304-b50b-516db6853f9a",
   "metadata": {},
   "outputs": [],
   "source": [
    "import pandas as pd\n",
    "from matplotlib import pyplot as plt"
   ]
  },
  {
   "cell_type": "code",
   "execution_count": 11,
   "id": "69fe4e24-a9a8-4420-9ee6-ded284e739b3",
   "metadata": {},
   "outputs": [
    {
     "data": {
      "text/html": [
       "<div>\n",
       "<style scoped>\n",
       "    .dataframe tbody tr th:only-of-type {\n",
       "        vertical-align: middle;\n",
       "    }\n",
       "\n",
       "    .dataframe tbody tr th {\n",
       "        vertical-align: top;\n",
       "    }\n",
       "\n",
       "    .dataframe thead th {\n",
       "        text-align: right;\n",
       "    }\n",
       "</style>\n",
       "<table border=\"1\" class=\"dataframe\">\n",
       "  <thead>\n",
       "    <tr style=\"text-align: right;\">\n",
       "      <th></th>\n",
       "      <th>funcionario</th>\n",
       "      <th>estado_civil</th>\n",
       "      <th>instrucao</th>\n",
       "      <th>nfilhos</th>\n",
       "      <th>salario</th>\n",
       "      <th>idade_anos</th>\n",
       "      <th>idade_meses</th>\n",
       "      <th>regiao</th>\n",
       "    </tr>\n",
       "  </thead>\n",
       "  <tbody>\n",
       "    <tr>\n",
       "      <th>0</th>\n",
       "      <td>1</td>\n",
       "      <td>solteiro</td>\n",
       "      <td>ensino_fundamental</td>\n",
       "      <td>NaN</td>\n",
       "      <td>4.00</td>\n",
       "      <td>26</td>\n",
       "      <td>3</td>\n",
       "      <td>interior</td>\n",
       "    </tr>\n",
       "    <tr>\n",
       "      <th>1</th>\n",
       "      <td>2</td>\n",
       "      <td>casado</td>\n",
       "      <td>ensino_fundamental</td>\n",
       "      <td>1.0</td>\n",
       "      <td>4.56</td>\n",
       "      <td>32</td>\n",
       "      <td>10</td>\n",
       "      <td>capital</td>\n",
       "    </tr>\n",
       "    <tr>\n",
       "      <th>2</th>\n",
       "      <td>3</td>\n",
       "      <td>casado</td>\n",
       "      <td>ensino_fundamental</td>\n",
       "      <td>2.0</td>\n",
       "      <td>5.25</td>\n",
       "      <td>36</td>\n",
       "      <td>5</td>\n",
       "      <td>capital</td>\n",
       "    </tr>\n",
       "    <tr>\n",
       "      <th>3</th>\n",
       "      <td>4</td>\n",
       "      <td>solteiro</td>\n",
       "      <td>ensino_medio</td>\n",
       "      <td>NaN</td>\n",
       "      <td>5.73</td>\n",
       "      <td>20</td>\n",
       "      <td>10</td>\n",
       "      <td>outro</td>\n",
       "    </tr>\n",
       "    <tr>\n",
       "      <th>4</th>\n",
       "      <td>5</td>\n",
       "      <td>solteiro</td>\n",
       "      <td>ensino_fundamental</td>\n",
       "      <td>NaN</td>\n",
       "      <td>6.26</td>\n",
       "      <td>40</td>\n",
       "      <td>7</td>\n",
       "      <td>outro</td>\n",
       "    </tr>\n",
       "  </tbody>\n",
       "</table>\n",
       "</div>"
      ],
      "text/plain": [
       "   funcionario estado_civil           instrucao  nfilhos  salario  idade_anos  \\\n",
       "0            1     solteiro  ensino_fundamental      NaN     4.00          26   \n",
       "1            2       casado  ensino_fundamental      1.0     4.56          32   \n",
       "2            3       casado  ensino_fundamental      2.0     5.25          36   \n",
       "3            4     solteiro        ensino_medio      NaN     5.73          20   \n",
       "4            5     solteiro  ensino_fundamental      NaN     6.26          40   \n",
       "\n",
       "   idade_meses    regiao  \n",
       "0            3  interior  \n",
       "1           10   capital  \n",
       "2            5   capital  \n",
       "3           10     outro  \n",
       "4            7     outro  "
      ]
     },
     "execution_count": 11,
     "metadata": {},
     "output_type": "execute_result"
    }
   ],
   "source": [
    "df = pd.read_csv('../data/CompanhiaMB.csv', sep=',')\n",
    "df.head()"
   ]
  },
  {
   "cell_type": "markdown",
   "id": "62785676-dee6-402c-b704-43b0ba4bbb46",
   "metadata": {},
   "source": [
    "- `funcionario`: *identificador*\n",
    "- `estado_civil`: qualitativa nominal\n",
    "- `instrucao`: qualitativa ordinal\n",
    "- `nfilhos`: quantitativa discreta\n",
    "- `salario`: quantitativa contínua\n",
    "- `idade_anos`: quantitativa discreta\n",
    "- `idade_meses`: quantitativa discreta\n",
    "- `regiao`: qualitativa nominal"
   ]
  },
  {
   "cell_type": "markdown",
   "id": "29e9ce3f-3254-4f75-a70b-c958dea8c013",
   "metadata": {},
   "source": [
    "# Representação de dados qualitativos"
   ]
  },
  {
   "cell_type": "markdown",
   "id": "821182f0-fac6-4b95-b8cb-2c4216f46b0c",
   "metadata": {},
   "source": [
    "- **Tabela de frequências**: Representação tabulada das ocorrências de elementos em um conjunto de dados.\n",
    "- **Gráfico de barras**: Retângulos verticais (ou horizontais) espaçados com alturas (ou bases) iguais às frequências dos valores da variável.\n",
    "- **Gráfico de Pareto**: Gráfico de barras com os valores da variável em ordem decrescente de frequências e com as frequências relativas acumuladas no segundo eixo vertical.\n",
    "- **Gráfico de setores**: Gráfico circular utilizado para destacar a composição das partes de um todo."
   ]
  },
  {
   "cell_type": "markdown",
   "id": "0d2a6a8a-9c4c-41ed-b262-4d1bef8b8eb8",
   "metadata": {},
   "source": [
    "### Tabela de frequências"
   ]
  },
  {
   "cell_type": "markdown",
   "id": "d0b4a55a-3461-449b-86bc-d47e980c62f8",
   "metadata": {},
   "source": [
    "Sejam uma amostra observada de tamanho $n$. Suponha que existem $k$ diferentes valores $x_{1}, x_{2}, ..., x_{k}$, com\n",
    "$1 ≤ k ≤ n$. Cada um deles ocorre $f_{j}$ vezes na amostra, para $j = 1..k$. \n",
    "\n",
    "**Definições**\n",
    "- *Frequência absoluta* $f_{j}$: é o número de vezes que a variável $X$ assume um determinado valor $x_{j}$ na amostra.\n",
    "- *Frequência relativa* $f^{*}_{j}$: é a frequência percentual do valor $x_{j}$ na amostra, ou seja, com $f*_{j} = \\frac{fj}{n}$, para $j = 1..k$.\n",
    "\n",
    "$$\\sum \\limits _{j=1} ^{k} f_{j} = n, ~~~~ \\sum \\limits _{j=1} ^{k} f^{*}_{j} = 1$$\n",
    "\n",
    "- *Frequência absoluta acumulada* $F_{j}$: é o número de vezes que a variável $X$ assume um valor menor ou igual a $x_{j}$ na amostra. $F_{j} = f_{1} + f_{2} + . . . + f_{j}.$\n",
    "- *Frequência relativa acumulada* $F^{*}_{j}$: é a frequência percentual acumulada do valor $x_{j}$ na amostra. $F^{*}_{j} = f^{*}_{1} + f^{*}_{2} + . . . + f^{*}_{j}.$\n",
    "\n",
    "$$F_k = n, ~~~~ F^{*}_{k} = 1$$"
   ]
  },
  {
   "cell_type": "code",
   "execution_count": 12,
   "id": "816010da-9950-4e75-9d3a-4121faf3b667",
   "metadata": {},
   "outputs": [],
   "source": [
    "X = 'instrucao'"
   ]
  },
  {
   "cell_type": "code",
   "execution_count": 13,
   "id": "66b883b7-6074-4f0e-816b-e1cc311ab3e7",
   "metadata": {},
   "outputs": [
    {
     "data": {
      "text/html": [
       "<div>\n",
       "<style scoped>\n",
       "    .dataframe tbody tr th:only-of-type {\n",
       "        vertical-align: middle;\n",
       "    }\n",
       "\n",
       "    .dataframe tbody tr th {\n",
       "        vertical-align: top;\n",
       "    }\n",
       "\n",
       "    .dataframe thead th {\n",
       "        text-align: right;\n",
       "    }\n",
       "</style>\n",
       "<table border=\"1\" class=\"dataframe\">\n",
       "  <thead>\n",
       "    <tr style=\"text-align: right;\">\n",
       "      <th>col_0</th>\n",
       "      <th>freq_abs</th>\n",
       "    </tr>\n",
       "    <tr>\n",
       "      <th>instrucao</th>\n",
       "      <th></th>\n",
       "    </tr>\n",
       "  </thead>\n",
       "  <tbody>\n",
       "    <tr>\n",
       "      <th>ensino_fundamental</th>\n",
       "      <td>12</td>\n",
       "    </tr>\n",
       "    <tr>\n",
       "      <th>ensino_medio</th>\n",
       "      <td>18</td>\n",
       "    </tr>\n",
       "    <tr>\n",
       "      <th>superior</th>\n",
       "      <td>6</td>\n",
       "    </tr>\n",
       "  </tbody>\n",
       "</table>\n",
       "</div>"
      ],
      "text/plain": [
       "col_0               freq_abs\n",
       "instrucao                   \n",
       "ensino_fundamental        12\n",
       "ensino_medio              18\n",
       "superior                   6"
      ]
     },
     "execution_count": 13,
     "metadata": {},
     "output_type": "execute_result"
    }
   ],
   "source": [
    "freq_table = pd.crosstab(df[X], 'freq_abs')\n",
    "freq_table"
   ]
  },
  {
   "cell_type": "code",
   "execution_count": 14,
   "id": "fcd89546-8d3d-4ed6-8269-625528573466",
   "metadata": {},
   "outputs": [
    {
     "data": {
      "text/html": [
       "<div>\n",
       "<style scoped>\n",
       "    .dataframe tbody tr th:only-of-type {\n",
       "        vertical-align: middle;\n",
       "    }\n",
       "\n",
       "    .dataframe tbody tr th {\n",
       "        vertical-align: top;\n",
       "    }\n",
       "\n",
       "    .dataframe thead th {\n",
       "        text-align: right;\n",
       "    }\n",
       "</style>\n",
       "<table border=\"1\" class=\"dataframe\">\n",
       "  <thead>\n",
       "    <tr style=\"text-align: right;\">\n",
       "      <th>col_0</th>\n",
       "      <th>freq_abs</th>\n",
       "      <th>freq_rel</th>\n",
       "    </tr>\n",
       "    <tr>\n",
       "      <th>instrucao</th>\n",
       "      <th></th>\n",
       "      <th></th>\n",
       "    </tr>\n",
       "  </thead>\n",
       "  <tbody>\n",
       "    <tr>\n",
       "      <th>ensino_fundamental</th>\n",
       "      <td>12</td>\n",
       "      <td>0.333333</td>\n",
       "    </tr>\n",
       "    <tr>\n",
       "      <th>ensino_medio</th>\n",
       "      <td>18</td>\n",
       "      <td>0.500000</td>\n",
       "    </tr>\n",
       "    <tr>\n",
       "      <th>superior</th>\n",
       "      <td>6</td>\n",
       "      <td>0.166667</td>\n",
       "    </tr>\n",
       "  </tbody>\n",
       "</table>\n",
       "</div>"
      ],
      "text/plain": [
       "col_0               freq_abs  freq_rel\n",
       "instrucao                             \n",
       "ensino_fundamental        12  0.333333\n",
       "ensino_medio              18  0.500000\n",
       "superior                   6  0.166667"
      ]
     },
     "execution_count": 14,
     "metadata": {},
     "output_type": "execute_result"
    }
   ],
   "source": [
    "n = freq_table['freq_abs'].sum()\n",
    "freq_table['freq_rel'] = freq_table['freq_abs'] / n\n",
    "freq_table"
   ]
  },
  {
   "cell_type": "code",
   "execution_count": 15,
   "id": "359b86ad-4df8-4b99-bc30-36366d79f76b",
   "metadata": {},
   "outputs": [
    {
     "data": {
      "text/html": [
       "<div>\n",
       "<style scoped>\n",
       "    .dataframe tbody tr th:only-of-type {\n",
       "        vertical-align: middle;\n",
       "    }\n",
       "\n",
       "    .dataframe tbody tr th {\n",
       "        vertical-align: top;\n",
       "    }\n",
       "\n",
       "    .dataframe thead th {\n",
       "        text-align: right;\n",
       "    }\n",
       "</style>\n",
       "<table border=\"1\" class=\"dataframe\">\n",
       "  <thead>\n",
       "    <tr style=\"text-align: right;\">\n",
       "      <th>col_0</th>\n",
       "      <th>freq_abs</th>\n",
       "      <th>freq_rel</th>\n",
       "      <th>freq_abs_ac</th>\n",
       "      <th>freq_rel_ac</th>\n",
       "    </tr>\n",
       "    <tr>\n",
       "      <th>instrucao</th>\n",
       "      <th></th>\n",
       "      <th></th>\n",
       "      <th></th>\n",
       "      <th></th>\n",
       "    </tr>\n",
       "  </thead>\n",
       "  <tbody>\n",
       "    <tr>\n",
       "      <th>ensino_fundamental</th>\n",
       "      <td>12</td>\n",
       "      <td>0.333333</td>\n",
       "      <td>12</td>\n",
       "      <td>0.333333</td>\n",
       "    </tr>\n",
       "    <tr>\n",
       "      <th>ensino_medio</th>\n",
       "      <td>18</td>\n",
       "      <td>0.500000</td>\n",
       "      <td>30</td>\n",
       "      <td>0.833333</td>\n",
       "    </tr>\n",
       "    <tr>\n",
       "      <th>superior</th>\n",
       "      <td>6</td>\n",
       "      <td>0.166667</td>\n",
       "      <td>36</td>\n",
       "      <td>1.000000</td>\n",
       "    </tr>\n",
       "  </tbody>\n",
       "</table>\n",
       "</div>"
      ],
      "text/plain": [
       "col_0               freq_abs  freq_rel  freq_abs_ac  freq_rel_ac\n",
       "instrucao                                                       \n",
       "ensino_fundamental        12  0.333333           12     0.333333\n",
       "ensino_medio              18  0.500000           30     0.833333\n",
       "superior                   6  0.166667           36     1.000000"
      ]
     },
     "execution_count": 15,
     "metadata": {},
     "output_type": "execute_result"
    }
   ],
   "source": [
    "j = freq_table.shape[0]\n",
    "freq_table['freq_abs_ac'] = [freq_table['freq_abs'][:i+1].sum() for i in range(j)]\n",
    "freq_table['freq_rel_ac'] = [freq_table['freq_rel'][:i+1].sum() for i in range(j)]\n",
    "freq_table"
   ]
  },
  {
   "cell_type": "markdown",
   "id": "68045d29-6b8d-4130-a1f8-6bd870791d62",
   "metadata": {},
   "source": [
    "## Gráfico de barras"
   ]
  },
  {
   "cell_type": "code",
   "execution_count": 16,
   "id": "8b4927b8-8c34-4f44-ac04-35929dd2724a",
   "metadata": {},
   "outputs": [
    {
     "data": {
      "image/png": "[encoded data removed]",
      "text/plain": [
       "<Figure size 640x480 with 1 Axes>"
      ]
     },
     "metadata": {},
     "output_type": "display_data"
    }
   ],
   "source": [
    "values = df[X].unique()\n",
    "counts = df[X].value_counts()\n",
    "\n",
    "plt.xlabel(X)\n",
    "plt.ylabel(\"Nº Funcionários\")\n",
    "plt.bar(values, counts)\n",
    "\n",
    "plt.show()"
   ]
  },
  {
   "cell_type": "markdown",
   "id": "5f57ae23-91be-400d-ba23-e8b4d9b2039f",
   "metadata": {},
   "source": [
    "## Gráfico de Pareto"
   ]
  },
  {
   "cell_type": "code",
   "execution_count": 17,
   "id": "f7cc0abb-b5d2-4956-a847-5ce04e815994",
   "metadata": {},
   "outputs": [
    {
     "data": {
      "image/png": "[encoded data removed]",
      "text/plain": [
       "<Figure size 640x480 with 2 Axes>"
      ]
     },
     "metadata": {},
     "output_type": "display_data"
    }
   ],
   "source": [
    "fig, ax1 = plt.subplots()\n",
    "\n",
    "ax1.bar(values, counts)\n",
    "ax1.set_xlabel(X)\n",
    "ax1.set_ylabel(\"Nº Funcionários\")\n",
    "\n",
    "ax2 = ax1.twinx()\n",
    "ax2.plot(values, freq_table['freq_rel_ac'], color='tab:red', marker='o')\n",
    "ax2.set_ylabel('Frequência Relativa Acumulada', color='tab:red')\n",
    "ax2.tick_params('y', colors='tab:red')\n",
    "\n",
    "plt.show()"
   ]
  },
  {
   "cell_type": "markdown",
   "id": "7d73fdef-e381-4547-ba8b-8cf6d4a1ee27",
   "metadata": {},
   "source": [
    "## Gráfico de setores"
   ]
  },
  {
   "cell_type": "code",
   "execution_count": 18,
   "id": "3ece23f4-881a-481d-8b32-da04d2e9270d",
   "metadata": {},
   "outputs": [
    {
     "data": {
      "image/png": "[encoded data removed]",
      "text/plain": [
       "<Figure size 640x480 with 1 Axes>"
      ]
     },
     "metadata": {},
     "output_type": "display_data"
    }
   ],
   "source": [
    "plt.pie(freq_table['freq_abs'], labels=values) \n",
    "plt.show() "
   ]
  }
 ],
 "metadata": {
  "kernelspec": {
   "display_name": "Python 3 (ipykernel)",
   "language": "python",
   "name": "python3"
  },
  "language_info": {
   "codemirror_mode": {
    "name": "ipython",
    "version": 3
   },
   "file_extension": ".py",
   "mimetype": "text/x-python",
   "name": "python",
   "nbconvert_exporter": "python",
   "pygments_lexer": "ipython3",
   "version": "3.9.17"
  }
 },
 "nbformat": 4,
 "nbformat_minor": 5
}
