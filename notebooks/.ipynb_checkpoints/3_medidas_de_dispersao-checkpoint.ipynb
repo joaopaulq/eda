{
 "cells": [
  {
   "cell_type": "markdown",
   "id": "fbcb706b-3efd-4dcc-86e6-1e289328da4f",
   "metadata": {},
   "source": [
    "# Medidas de dispersão"
   ]
  },
  {
   "cell_type": "markdown",
   "id": "4c9903a7-abb6-4024-859f-a59061765db3",
   "metadata": {},
   "source": [
    "As medidas de dispersão avaliam o grau de variabilidade ou dispersão dos valores de um conjunto de dados. Essas medidas nos proporcionarão um conhecimento mais completo do fenômeno a ser analisado, permitindo estabelecer comparação entre fenômenos de mesma natureza e mostrando até que ponto os valores se distribuem acima ou abaixo da tendência central. A finalidade é encontrar um valor que resuma a variabilidade desse conjunto de dados.\n",
    "\n",
    "- *Amplitude*: indica a diferença entre o maior e o menor valor em um conjunto de dados.\n",
    "- *Variância*: mede o quão distantes os valores individuais estão da média dos dados.\n",
    "- *Desvio-padrão*: utilizada para expressar a dispersão dos dados em termos da unidade de medida original dos dados.\n",
    "- *Coeficiente de variação*: usado para comparar a dispersão entre conjuntos de dados que possuem médias diferentes ou escalas de medida diferentes."
   ]
  },
  {
   "cell_type": "markdown",
   "id": "cf67627b-f5ff-4302-b690-4e481a5bc1cb",
   "metadata": {},
   "source": [
    "## Dados"
   ]
  },
  {
   "cell_type": "code",
   "execution_count": 5,
   "id": "a09d7f64-837c-4bee-af6f-4ec0cd30af28",
   "metadata": {},
   "outputs": [],
   "source": [
    "from matplotlib import pyplot as plt\n",
    "import seaborn as sns\n",
    "import pandas as pd"
   ]
  },
  {
   "cell_type": "code",
   "execution_count": 6,
   "id": "bad8d142-a02c-42d0-b318-a6c1f810a1d1",
   "metadata": {},
   "outputs": [
    {
     "data": {
      "text/html": [
       "<div>\n",
       "<style scoped>\n",
       "    .dataframe tbody tr th:only-of-type {\n",
       "        vertical-align: middle;\n",
       "    }\n",
       "\n",
       "    .dataframe tbody tr th {\n",
       "        vertical-align: top;\n",
       "    }\n",
       "\n",
       "    .dataframe thead th {\n",
       "        text-align: right;\n",
       "    }\n",
       "</style>\n",
       "<table border=\"1\" class=\"dataframe\">\n",
       "  <thead>\n",
       "    <tr style=\"text-align: right;\">\n",
       "      <th></th>\n",
       "      <th>date</th>\n",
       "      <th>state</th>\n",
       "      <th>city</th>\n",
       "      <th>confirmed</th>\n",
       "      <th>deaths</th>\n",
       "      <th>estimated_population_2019</th>\n",
       "      <th>confirmed_per_100k_inhabitants</th>\n",
       "      <th>death_rate</th>\n",
       "    </tr>\n",
       "  </thead>\n",
       "  <tbody>\n",
       "    <tr>\n",
       "      <th>0</th>\n",
       "      <td>2020-12-29</td>\n",
       "      <td>AP</td>\n",
       "      <td>Amapá</td>\n",
       "      <td>956</td>\n",
       "      <td>6</td>\n",
       "      <td>9109.0</td>\n",
       "      <td>10406.00849</td>\n",
       "      <td>0.0063</td>\n",
       "    </tr>\n",
       "    <tr>\n",
       "      <th>1</th>\n",
       "      <td>2020-12-29</td>\n",
       "      <td>AP</td>\n",
       "      <td>Calçoene</td>\n",
       "      <td>1436</td>\n",
       "      <td>7</td>\n",
       "      <td>11117.0</td>\n",
       "      <td>12701.22059</td>\n",
       "      <td>0.0049</td>\n",
       "    </tr>\n",
       "    <tr>\n",
       "      <th>2</th>\n",
       "      <td>2020-12-29</td>\n",
       "      <td>AP</td>\n",
       "      <td>Cutias</td>\n",
       "      <td>741</td>\n",
       "      <td>2</td>\n",
       "      <td>5983.0</td>\n",
       "      <td>12145.54991</td>\n",
       "      <td>0.0027</td>\n",
       "    </tr>\n",
       "    <tr>\n",
       "      <th>3</th>\n",
       "      <td>2020-12-29</td>\n",
       "      <td>AP</td>\n",
       "      <td>Ferreira Gomes</td>\n",
       "      <td>930</td>\n",
       "      <td>5</td>\n",
       "      <td>7780.0</td>\n",
       "      <td>11673.15175</td>\n",
       "      <td>0.0054</td>\n",
       "    </tr>\n",
       "    <tr>\n",
       "      <th>4</th>\n",
       "      <td>2020-12-29</td>\n",
       "      <td>AP</td>\n",
       "      <td>Itaubal</td>\n",
       "      <td>345</td>\n",
       "      <td>0</td>\n",
       "      <td>5503.0</td>\n",
       "      <td>6142.06872</td>\n",
       "      <td>0.0000</td>\n",
       "    </tr>\n",
       "  </tbody>\n",
       "</table>\n",
       "</div>"
      ],
      "text/plain": [
       "         date state            city  confirmed  deaths  \\\n",
       "0  2020-12-29    AP           Amapá        956       6   \n",
       "1  2020-12-29    AP        Calçoene       1436       7   \n",
       "2  2020-12-29    AP          Cutias        741       2   \n",
       "3  2020-12-29    AP  Ferreira Gomes        930       5   \n",
       "4  2020-12-29    AP         Itaubal        345       0   \n",
       "\n",
       "   estimated_population_2019  confirmed_per_100k_inhabitants  death_rate  \n",
       "0                     9109.0                     10406.00849      0.0063  \n",
       "1                    11117.0                     12701.22059      0.0049  \n",
       "2                     5983.0                     12145.54991      0.0027  \n",
       "3                     7780.0                     11673.15175      0.0054  \n",
       "4                     5503.0                      6142.06872      0.0000  "
      ]
     },
     "execution_count": 6,
     "metadata": {},
     "output_type": "execute_result"
    }
   ],
   "source": [
    "df = pd.read_csv('../data/covid_cidades.csv', sep=',')\n",
    "df.head()"
   ]
  },
  {
   "cell_type": "markdown",
   "id": "632177fa-dcba-4a1d-bd5e-f99461e0e830",
   "metadata": {},
   "source": [
    "## Amplitude\n",
    "Esta medida é obtida pela simples diferença entre o valor máximo e o valor mínimo. Ela leva em conta apenas os valores extremos do conjunto de dados.\n",
    "\n",
    "Sejam $x_{(1)}, ..., x_{(n)}$ os dados ordenados, ou seja, $x_{(1)} = min(x_{(1)}, ..., x_{(n)})$ e $x_{(n)} = max(x_{(1)}, ..., x_{(n)})$. A amplitude é dada por:\n",
    "\n",
    "$$A = x_{(n)} - x_{(1)}$$"
   ]
  },
  {
   "cell_type": "code",
   "execution_count": 11,
   "id": "76d0c272-e215-4f8a-aec5-7f0069db1c9a",
   "metadata": {},
   "outputs": [
    {
     "data": {
      "text/plain": [
       "395846"
      ]
     },
     "execution_count": 11,
     "metadata": {},
     "output_type": "execute_result"
    }
   ],
   "source": [
    "A = df['confirmed'].max() - df['confirmed'].min()\n",
    "A"
   ]
  },
  {
   "cell_type": "markdown",
   "id": "f7940e9f-f426-4eaf-a1ef-988a434f4ff5",
   "metadata": {},
   "source": [
    "## Variância\n",
    "Esta medida nos diz o quão dispersos ou diferentes os valores de um conjunto de dados estão em relação à média. Quanto maior a variância, maior a dispersão dos valores em relação à média; quanto menor a variância, menor a dispersão dos valores em relação à média. Em outras palavras, a variância nos dá uma ideia de quão \"espalhados\" os dados estão ao redor da média. A variância é dada por:\n",
    "\n",
    "$$s^{2} = \\frac{\\sum \\limits _{i=1} ^{n} (x_{i} - \\bar{x})^{2}}{n}$$\n",
    "\n",
    "E a variância amostral é definida por:\n",
    "\n",
    "$$s^{2} = \\frac{\\sum \\limits _{i=1} ^{n} (x_{i} - \\bar{x})^{2}}{n-1}$$\n"
   ]
  },
  {
   "cell_type": "code",
   "execution_count": 14,
   "id": "f32d4dad-3654-42fc-b997-78f7126c3d67",
   "metadata": {},
   "outputs": [
    {
     "data": {
      "text/plain": [
       "61323246.210570626"
      ]
     },
     "execution_count": 14,
     "metadata": {},
     "output_type": "execute_result"
    }
   ],
   "source": [
    "df['confirmed'].var()"
   ]
  },
  {
   "cell_type": "markdown",
   "id": "0fe831c7-18b3-459b-b322-23a00e15c69f",
   "metadata": {},
   "source": [
    "## Desvio padrão\n",
    "Se a variável original $X$ está em ’unidades’, a variância está em ’unidades$^2$' e o desvio padrão está em ’unidades’. O desvio padrão é dado por:\n",
    "\n",
    "$$s = \\sqrt{s^{2}} = \\sqrt{\\frac{\\sum \\limits _{i=1} ^{n} (x_{i} - \\bar{x})^2}{n}}$$\n",
    "\n",
    "E o desvio padrão amostral é definido por:\n",
    "\n",
    "$$s = \\sqrt{s^{2}} = \\sqrt{\\frac{\\sum \\limits _{i=1} ^{n} (x_{i} - \\bar{x})^2}{n-1}}$$\n",
    "\n",
    "\n",
    "\n"
   ]
  },
  {
   "cell_type": "code",
   "execution_count": 15,
   "id": "3ec6cee9-78c3-403c-b9ef-403736e5537b",
   "metadata": {},
   "outputs": [
    {
     "data": {
      "text/plain": [
       "7830.9160518147955"
      ]
     },
     "execution_count": 15,
     "metadata": {},
     "output_type": "execute_result"
    }
   ],
   "source": [
    "df['confirmed'].std()"
   ]
  },
  {
   "cell_type": "markdown",
   "id": "ea74f973-2417-4e0c-a435-b2ff6d9a3bf6",
   "metadata": {},
   "source": [
    "## Coeficiente de variação\n",
    "O coeficiente de variação é uma medida de dispersão relativa que elimina o efeito da magnitude dos dados e exprime a variabilidade em relação à média. É um medida relativa de dispersão, útil para a comparação relativa do grau de concentração em torno da média de séries distintas. Se o C.V. for muito alto (superior a 50%), há a indicação de que a média é pouco representativa, enquanto que, quanto mais próximo de zero for o C.V., mais representativa é a média. O coeficiente de variação é definido por:\n",
    "\n",
    "$$CV = \\frac{s}{\\bar{x}} \\times 100\\%$$"
   ]
  },
  {
   "cell_type": "code",
   "execution_count": 19,
   "id": "d4ef4f94-d90e-4812-a459-d382bbc08f62",
   "metadata": {},
   "outputs": [
    {
     "data": {
      "text/plain": [
       "579.8344043783313"
      ]
     },
     "execution_count": 19,
     "metadata": {},
     "output_type": "execute_result"
    }
   ],
   "source": [
    "cv = (df['confirmed'].std() / df['confirmed'].mean()) * 100\n",
    "cv"
   ]
  },
  {
   "cell_type": "markdown",
   "id": "0018e32f-0e4f-460b-ac6b-827989041e6c",
   "metadata": {},
   "source": [
    "## Medidas de assimetria"
   ]
  },
  {
   "cell_type": "markdown",
   "id": "5346f77d-0a93-447e-b9ce-16323dae4a59",
   "metadata": {},
   "source": [
    "* Distribuição *Simétrica*: $\\bar{x} = \\tilde{x} = Mo$\n",
    "* Distribuição *Assimétrica à direita*: $\\bar{x} > \\tilde{x} > Mo$\n",
    "* Distribuição *Assimétrica à esquerda*: $\\bar{x} < \\tilde{x} < Mo$\n",
    "\n",
    "**Medidas de Curtose**\n",
    "- *Coeficiente de curtose*: descreve a forma da distribuição dos dados em relação à sua concentração na região central e à presença de caudas pesadas ou leves.\n",
    "\n",
    "**Medidas de associação**\n",
    "- *Covariância*: quantifica a relação linear bruta entre duas variáveis.\n",
    "- *Coeficiente de correlação de Pearson*: quantifica a força e a direção da relação linear entre duas variáveis.\n",
    "- *Coeficiente de correlação de Spearman*: quantifica a relação monotônica entre duas variáveis. (não pressupõe uma relação linear entre as variáveis)"
   ]
  }
 ],
 "metadata": {
  "kernelspec": {
   "display_name": "Python 3 (ipykernel)",
   "language": "python",
   "name": "python3"
  },
  "language_info": {
   "codemirror_mode": {
    "name": "ipython",
    "version": 3
   },
   "file_extension": ".py",
   "mimetype": "text/x-python",
   "name": "python",
   "nbconvert_exporter": "python",
   "pygments_lexer": "ipython3",
   "version": "3.9.17"
  }
 },
 "nbformat": 4,
 "nbformat_minor": 5
}
