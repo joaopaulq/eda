{
 "cells": [
  {
   "cell_type": "markdown",
   "id": "b95a48c6-3ad1-45a7-a6a1-8d3c91b03e2b",
   "metadata": {},
   "source": [
    "# Natureza dos dados"
   ]
  },
  {
   "cell_type": "markdown",
   "id": "a88f5b43-bfae-40a5-81e8-008e9e6e814c",
   "metadata": {},
   "source": [
    "Trataremos aqui de dados retangulares, que tem nas linhas as unidades amostrais e nas colunas as variáveis.\n",
    "\n",
    "**Variável**: Qualquer característica dos elementos em estudo e que temos\n",
    "interesse em medir de alguma forma.\n",
    "\n",
    "**Variáveis Qualitativas**\n",
    "- *Nominais*: sexo, cor da pele, status de fumante (fumante ou não-fumante), classificação de inadimplente (sim ou não).\n",
    "- *Ordinais*: escolaridade (em categorias), grau de satisfação (muito satisfeito, satisfeito, insatisfeito, muito insatisfeito), idade (em faixas).\n",
    "\n",
    "**Variáveis Quantitativas**\n",
    "- *Discretas*: número de defeitos em uma peça, número de produtos contratados.\n",
    "- *Contínuas*: peso, idade, pressão sanguínea, valor contratado de um produto."
   ]
  },
  {
   "cell_type": "markdown",
   "id": "d64c1b12-c7ea-46e2-bc38-1b4a41ab6ad1",
   "metadata": {},
   "source": [
    "## Dados"
   ]
  },
  {
   "cell_type": "code",
   "execution_count": 1,
   "id": "b2c40f93-3afc-4ea6-8028-fce0f5a2a70f",
   "metadata": {},
   "outputs": [],
   "source": [
    "import pandas as pd\n",
    "import numpy as np\n",
    "from matplotlib import pyplot as plt"
   ]
  },
  {
   "cell_type": "code",
   "execution_count": 2,
   "id": "69fe4e24-a9a8-4420-9ee6-ded284e739b3",
   "metadata": {},
   "outputs": [
    {
     "data": {
      "text/html": [
       "<div>\n",
       "<style scoped>\n",
       "    .dataframe tbody tr th:only-of-type {\n",
       "        vertical-align: middle;\n",
       "    }\n",
       "\n",
       "    .dataframe tbody tr th {\n",
       "        vertical-align: top;\n",
       "    }\n",
       "\n",
       "    .dataframe thead th {\n",
       "        text-align: right;\n",
       "    }\n",
       "</style>\n",
       "<table border=\"1\" class=\"dataframe\">\n",
       "  <thead>\n",
       "    <tr style=\"text-align: right;\">\n",
       "      <th></th>\n",
       "      <th>funcionario</th>\n",
       "      <th>estado_civil</th>\n",
       "      <th>instrucao</th>\n",
       "      <th>nfilhos</th>\n",
       "      <th>salario</th>\n",
       "      <th>idade_anos</th>\n",
       "      <th>idade_meses</th>\n",
       "      <th>regiao</th>\n",
       "    </tr>\n",
       "  </thead>\n",
       "  <tbody>\n",
       "    <tr>\n",
       "      <th>0</th>\n",
       "      <td>1</td>\n",
       "      <td>solteiro</td>\n",
       "      <td>ensino_fundamental</td>\n",
       "      <td>NaN</td>\n",
       "      <td>4.00</td>\n",
       "      <td>26</td>\n",
       "      <td>3</td>\n",
       "      <td>interior</td>\n",
       "    </tr>\n",
       "    <tr>\n",
       "      <th>1</th>\n",
       "      <td>2</td>\n",
       "      <td>casado</td>\n",
       "      <td>ensino_fundamental</td>\n",
       "      <td>1.0</td>\n",
       "      <td>4.56</td>\n",
       "      <td>32</td>\n",
       "      <td>10</td>\n",
       "      <td>capital</td>\n",
       "    </tr>\n",
       "    <tr>\n",
       "      <th>2</th>\n",
       "      <td>3</td>\n",
       "      <td>casado</td>\n",
       "      <td>ensino_fundamental</td>\n",
       "      <td>2.0</td>\n",
       "      <td>5.25</td>\n",
       "      <td>36</td>\n",
       "      <td>5</td>\n",
       "      <td>capital</td>\n",
       "    </tr>\n",
       "    <tr>\n",
       "      <th>3</th>\n",
       "      <td>4</td>\n",
       "      <td>solteiro</td>\n",
       "      <td>ensino_medio</td>\n",
       "      <td>NaN</td>\n",
       "      <td>5.73</td>\n",
       "      <td>20</td>\n",
       "      <td>10</td>\n",
       "      <td>outro</td>\n",
       "    </tr>\n",
       "    <tr>\n",
       "      <th>4</th>\n",
       "      <td>5</td>\n",
       "      <td>solteiro</td>\n",
       "      <td>ensino_fundamental</td>\n",
       "      <td>NaN</td>\n",
       "      <td>6.26</td>\n",
       "      <td>40</td>\n",
       "      <td>7</td>\n",
       "      <td>outro</td>\n",
       "    </tr>\n",
       "  </tbody>\n",
       "</table>\n",
       "</div>"
      ],
      "text/plain": [
       "   funcionario estado_civil           instrucao  nfilhos  salario  idade_anos  \\\n",
       "0            1     solteiro  ensino_fundamental      NaN     4.00          26   \n",
       "1            2       casado  ensino_fundamental      1.0     4.56          32   \n",
       "2            3       casado  ensino_fundamental      2.0     5.25          36   \n",
       "3            4     solteiro        ensino_medio      NaN     5.73          20   \n",
       "4            5     solteiro  ensino_fundamental      NaN     6.26          40   \n",
       "\n",
       "   idade_meses    regiao  \n",
       "0            3  interior  \n",
       "1           10   capital  \n",
       "2            5   capital  \n",
       "3           10     outro  \n",
       "4            7     outro  "
      ]
     },
     "execution_count": 2,
     "metadata": {},
     "output_type": "execute_result"
    }
   ],
   "source": [
    "df = pd.read_csv('../data/CompanhiaMB.csv', sep=',')\n",
    "df.head()"
   ]
  },
  {
   "cell_type": "markdown",
   "id": "62785676-dee6-402c-b704-43b0ba4bbb46",
   "metadata": {},
   "source": [
    "- `funcionario`: *identificador*\n",
    "- `estado_civil`: qualitativa nominal\n",
    "- `instrucao`: qualitativa ordinal\n",
    "- `nfilhos`: quantitativa discreta\n",
    "- `salario`: quantitativa contínua\n",
    "- `idade_anos`: quantitativa discreta\n",
    "- `idade_meses`: quantitativa discreta\n",
    "- `regiao`: qualitativa nominal"
   ]
  }
 ],
 "metadata": {
  "kernelspec": {
   "display_name": "Python 3 (ipykernel)",
   "language": "python",
   "name": "python3"
  },
  "language_info": {
   "codemirror_mode": {
    "name": "ipython",
    "version": 3
   },
   "file_extension": ".py",
   "mimetype": "text/x-python",
   "name": "python",
   "nbconvert_exporter": "python",
   "pygments_lexer": "ipython3",
   "version": "3.9.17"
  }
 },
 "nbformat": 4,
 "nbformat_minor": 5
}
