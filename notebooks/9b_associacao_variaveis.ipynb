{
 "cells": [
  {
   "cell_type": "markdown",
   "id": "f2ac7ef2-ff2f-4931-bedb-9930be67aa02",
   "metadata": {},
   "source": [
    "# Associação de variáveis quantitativas"
   ]
  },
  {
   "cell_type": "markdown",
   "id": "a7c69c14-56ab-4334-9109-31433e802de1",
   "metadata": {},
   "source": [
    "Considere duas variáveis quantitativas $x, y \\in \\mathbb{R}$ em uma amostra de tamanho $n$, o seu conjunto de dados bivariado é dado por $S = \\{(x_{1}, y_{1}), (x_{2}, y_{2}), ..., (x_{n}, y_{n})\\}$."
   ]
  },
  {
   "cell_type": "markdown",
   "id": "5f3ce6ea-87d1-4c2d-8086-028de52539f6",
   "metadata": {},
   "source": [
    "## Dados"
   ]
  },
  {
   "cell_type": "code",
   "execution_count": 4,
   "id": "24574cc6-902b-4aed-ae41-c42b16497f70",
   "metadata": {},
   "outputs": [],
   "source": [
    "import pandas as pd\n",
    "import numpy as np\n",
    "from matplotlib import pyplot as plt"
   ]
  },
  {
   "cell_type": "code",
   "execution_count": 21,
   "id": "4e45b88c-b3f2-403c-8afb-939726c9f348",
   "metadata": {},
   "outputs": [
    {
     "data": {
      "text/html": [
       "<div>\n",
       "<style scoped>\n",
       "    .dataframe tbody tr th:only-of-type {\n",
       "        vertical-align: middle;\n",
       "    }\n",
       "\n",
       "    .dataframe tbody tr th {\n",
       "        vertical-align: top;\n",
       "    }\n",
       "\n",
       "    .dataframe thead th {\n",
       "        text-align: right;\n",
       "    }\n",
       "</style>\n",
       "<table border=\"1\" class=\"dataframe\">\n",
       "  <thead>\n",
       "    <tr style=\"text-align: right;\">\n",
       "      <th></th>\n",
       "      <th>date</th>\n",
       "      <th>state</th>\n",
       "      <th>city</th>\n",
       "      <th>confirmed</th>\n",
       "      <th>deaths</th>\n",
       "      <th>estimated_population_2019</th>\n",
       "      <th>confirmed_per_100k_inhabitants</th>\n",
       "      <th>death_rate</th>\n",
       "    </tr>\n",
       "  </thead>\n",
       "  <tbody>\n",
       "    <tr>\n",
       "      <th>0</th>\n",
       "      <td>2020-12-29</td>\n",
       "      <td>AP</td>\n",
       "      <td>Amapá</td>\n",
       "      <td>956</td>\n",
       "      <td>6</td>\n",
       "      <td>9109.0</td>\n",
       "      <td>10406.00849</td>\n",
       "      <td>0.0063</td>\n",
       "    </tr>\n",
       "    <tr>\n",
       "      <th>1</th>\n",
       "      <td>2020-12-29</td>\n",
       "      <td>AP</td>\n",
       "      <td>Calçoene</td>\n",
       "      <td>1436</td>\n",
       "      <td>7</td>\n",
       "      <td>11117.0</td>\n",
       "      <td>12701.22059</td>\n",
       "      <td>0.0049</td>\n",
       "    </tr>\n",
       "    <tr>\n",
       "      <th>2</th>\n",
       "      <td>2020-12-29</td>\n",
       "      <td>AP</td>\n",
       "      <td>Cutias</td>\n",
       "      <td>741</td>\n",
       "      <td>2</td>\n",
       "      <td>5983.0</td>\n",
       "      <td>12145.54991</td>\n",
       "      <td>0.0027</td>\n",
       "    </tr>\n",
       "    <tr>\n",
       "      <th>3</th>\n",
       "      <td>2020-12-29</td>\n",
       "      <td>AP</td>\n",
       "      <td>Ferreira Gomes</td>\n",
       "      <td>930</td>\n",
       "      <td>5</td>\n",
       "      <td>7780.0</td>\n",
       "      <td>11673.15175</td>\n",
       "      <td>0.0054</td>\n",
       "    </tr>\n",
       "    <tr>\n",
       "      <th>4</th>\n",
       "      <td>2020-12-29</td>\n",
       "      <td>AP</td>\n",
       "      <td>Itaubal</td>\n",
       "      <td>345</td>\n",
       "      <td>0</td>\n",
       "      <td>5503.0</td>\n",
       "      <td>6142.06872</td>\n",
       "      <td>0.0000</td>\n",
       "    </tr>\n",
       "  </tbody>\n",
       "</table>\n",
       "</div>"
      ],
      "text/plain": [
       "         date state            city  confirmed  deaths  \\\n",
       "0  2020-12-29    AP           Amapá        956       6   \n",
       "1  2020-12-29    AP        Calçoene       1436       7   \n",
       "2  2020-12-29    AP          Cutias        741       2   \n",
       "3  2020-12-29    AP  Ferreira Gomes        930       5   \n",
       "4  2020-12-29    AP         Itaubal        345       0   \n",
       "\n",
       "   estimated_population_2019  confirmed_per_100k_inhabitants  death_rate  \n",
       "0                     9109.0                     10406.00849      0.0063  \n",
       "1                    11117.0                     12701.22059      0.0049  \n",
       "2                     5983.0                     12145.54991      0.0027  \n",
       "3                     7780.0                     11673.15175      0.0054  \n",
       "4                     5503.0                      6142.06872      0.0000  "
      ]
     },
     "execution_count": 21,
     "metadata": {},
     "output_type": "execute_result"
    }
   ],
   "source": [
    "df = pd.read_csv('../data/covid_cidades.csv', sep=',')\n",
    "df.head()"
   ]
  },
  {
   "cell_type": "code",
   "execution_count": 22,
   "id": "b03869c8-7895-4976-8d83-84f27cf5be4c",
   "metadata": {},
   "outputs": [],
   "source": [
    "x = df['confirmed']\n",
    "y = df['deaths']"
   ]
  },
  {
   "cell_type": "markdown",
   "id": "fd06733a-da0d-413d-b670-bd163ba1077d",
   "metadata": {},
   "source": [
    "## Gráfico de dispersão"
   ]
  },
  {
   "cell_type": "markdown",
   "id": "d14be7c8-023d-4ed8-8884-666de4426880",
   "metadata": {},
   "source": [
    "O gráfico de dispersão (*scatter plot*) do conjunto bivariado $S$ é dado pelo gráfico cartesiano dos pares $(x_{i}, y_{i})$ para $i = 1, ..., n$."
   ]
  },
  {
   "cell_type": "code",
   "execution_count": 23,
   "id": "8d48446d-4fee-456d-ac9b-fdd3f4576eaf",
   "metadata": {},
   "outputs": [
    {
     "data": {
      "text/plain": [
       "<matplotlib.collections.PathCollection at 0x7f84cc42a040>"
      ]
     },
     "execution_count": 23,
     "metadata": {},
     "output_type": "execute_result"
    },
    {
     "data": {
      "image/png": "[encoded data removed]",
      "text/plain": [
       "<Figure size 640x480 with 1 Axes>"
      ]
     },
     "metadata": {},
     "output_type": "display_data"
    }
   ],
   "source": [
    "plt.scatter(x, y)"
   ]
  },
  {
   "cell_type": "markdown",
   "id": "57ae3f70-a024-4aeb-aef8-616d3156f72d",
   "metadata": {},
   "source": [
    "## Covariância e Coeficiente de correlação"
   ]
  },
  {
   "cell_type": "markdown",
   "id": "0fbcd8b0-0190-4eca-bb3b-9ec406431908",
   "metadata": {},
   "source": [
    "A **covariância** entre $x$ e $y$ é a medida da variação conjunta de $x$ e $y$ em relação as suas médias $\\bar{x}$ e $\\bar{y}$. É dada por:\n",
    "\n",
    "$$cov(x, y) = \\frac{1}{n-1} \\sum \\limits _{i=0} ^{n} (x_{i} - \\bar{x})(y_{i} - \\bar{y})$$ \n",
    "\n",
    "onde $-\\infty < cov(x, y) < \\infty$.\n",
    "\n",
    "**Observações:**\n",
    "- $cov(x, y) = cov(y, x)$\n",
    "- $cov(x, x) = s_{x}^{2}$\n",
    "\n",
    "O **coeficiente de correlação** linear de Pearson $r$ é dado por:\n",
    "\n",
    "$$cor(x, y) = r = \\frac{cov(x, y)}{s_{x} s_{y}}$$\n",
    "\n",
    "sendo que $s_{x}$ e $s_{y}$ denotam os desvios padrão de $x$ e $y$ respectivamente. Se $s_{x} = 0$ e/ou $s_{y} = 0$, então $r$ não está definido.\n",
    "\n",
    "**Propriedades:**\n",
    "- $-1 \\leq r \\leq 1$\n",
    "- $cor(x, x) = 1$\n",
    "- $r = 1$ se, e somente se, a relação entre $x$ e $y$ for linear $(y = a + bx)$ e $b > 0$.\n",
    "- $r = -1$ se, e somente se, a relação entre $x$ e $y$ for linear $(y = a + bx)$ e $b < 0$.\n"
   ]
  },
  {
   "cell_type": "code",
   "execution_count": 24,
   "id": "619eddfc-d8e6-4765-91f9-b2de6782f615",
   "metadata": {},
   "outputs": [
    {
     "data": {
      "text/plain": [
       "2242611.9052937566"
      ]
     },
     "execution_count": 24,
     "metadata": {},
     "output_type": "execute_result"
    }
   ],
   "source": [
    "# Covariância\n",
    "np.cov(x, y)[0, 1] "
   ]
  },
  {
   "cell_type": "code",
   "execution_count": 25,
   "id": "b7bc5de5-728b-4849-9a21-6c74ab731343",
   "metadata": {},
   "outputs": [
    {
     "data": {
      "text/plain": [
       "0.8889042001825198"
      ]
     },
     "execution_count": 25,
     "metadata": {},
     "output_type": "execute_result"
    }
   ],
   "source": [
    "# Coeficiente de correlação linear\n",
    "np.corrcoef(x, y)[0, 1]"
   ]
  },
  {
   "cell_type": "markdown",
   "id": "8ab4de52-191e-454b-b7a3-b69d63b0f863",
   "metadata": {},
   "source": [
    "## Regressão linear"
   ]
  },
  {
   "cell_type": "markdown",
   "id": "48ed4472-9b66-4238-8b89-a8e017dce2af",
   "metadata": {},
   "source": [
    "Queremos obter a melhor reta para explicar a (possível) relação linear entre $x$ e $y$. Iremos ajustar o melhor modelo do tipo:\n",
    "\n",
    "$$y_{i} = \\alpha + \\beta x_{i} + \\epsilon _{i}$$\n",
    "\n",
    "para isso, pode-se minimizar a soma quadrática dos erros:\n",
    "\n",
    "$$ Q = \\sum \\limits _{i=1} ^{n} \\epsilon _{i} ^{2}$$\n",
    "\n",
    "Os estimadores de mínimos quadrados de $\\alpha$ e $\\beta$ é dado por:\n",
    "\n",
    "$$\\hat{\\alpha} = \\bar{y} - \\hat{\\beta} \\bar{x}$$\n",
    "\n",
    "$$\\hat{\\beta} = \\frac{cov(x, y)}{var(x)}$$"
   ]
  },
  {
   "cell_type": "code",
   "execution_count": 34,
   "id": "a07c5dc9-6e54-4cdd-a0b4-86baf7be93dc",
   "metadata": {},
   "outputs": [
    {
     "data": {
      "text/plain": [
       "(0.03657033904554102, 1350.5069628979486)"
      ]
     },
     "execution_count": 34,
     "metadata": {},
     "output_type": "execute_result"
    }
   ],
   "source": [
    "beta = np.cov(x, y)[0, 1] / x.var()\n",
    "alpha = x.mean() - beta\n",
    "beta, alpha"
   ]
  },
  {
   "cell_type": "code",
   "execution_count": 37,
   "id": "4a1c1ace-fdfa-4e43-8635-2f397b6cd511",
   "metadata": {},
   "outputs": [
    {
     "data": {
      "image/png": "[encoded data removed]",
      "text/plain": [
       "<Figure size 640x480 with 1 Axes>"
      ]
     },
     "metadata": {},
     "output_type": "display_data"
    }
   ],
   "source": [
    "plt.scatter(x, y)\n",
    "plt.plot(x, alpha + beta*x)\n",
    "plt.show()"
   ]
  }
 ],
 "metadata": {
  "kernelspec": {
   "display_name": "Python 3 (ipykernel)",
   "language": "python",
   "name": "python3"
  },
  "language_info": {
   "codemirror_mode": {
    "name": "ipython",
    "version": 3
   },
   "file_extension": ".py",
   "mimetype": "text/x-python",
   "name": "python",
   "nbconvert_exporter": "python",
   "pygments_lexer": "ipython3",
   "version": "3.9.17"
  }
 },
 "nbformat": 4,
 "nbformat_minor": 5
}
