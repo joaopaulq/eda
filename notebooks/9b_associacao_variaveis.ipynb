{
 "cells": [
  {
   "cell_type": "markdown",
   "id": "f2ac7ef2-ff2f-4931-bedb-9930be67aa02",
   "metadata": {},
   "source": [
    "# Associação de variáveis quantitativas"
   ]
  },
  {
   "cell_type": "markdown",
   "id": "fd06733a-da0d-413d-b670-bd163ba1077d",
   "metadata": {},
   "source": [
    "## Gráfico de dispersão"
   ]
  },
  {
   "cell_type": "code",
   "execution_count": null,
   "id": "85733605-858e-4c72-b39a-9f282e424468",
   "metadata": {},
   "outputs": [],
   "source": []
  },
  {
   "cell_type": "code",
   "execution_count": null,
   "id": "8d48446d-4fee-456d-ac9b-fdd3f4576eaf",
   "metadata": {},
   "outputs": [],
   "source": []
  },
  {
   "cell_type": "markdown",
   "id": "57ae3f70-a024-4aeb-aef8-616d3156f72d",
   "metadata": {},
   "source": [
    "## Covariância e Correlação"
   ]
  },
  {
   "cell_type": "code",
   "execution_count": null,
   "id": "34c7e6b6-7439-4d1f-8748-99c5c84323f8",
   "metadata": {},
   "outputs": [],
   "source": []
  },
  {
   "cell_type": "code",
   "execution_count": null,
   "id": "619eddfc-d8e6-4765-91f9-b2de6782f615",
   "metadata": {},
   "outputs": [],
   "source": []
  },
  {
   "cell_type": "markdown",
   "id": "8ab4de52-191e-454b-b7a3-b69d63b0f863",
   "metadata": {},
   "source": [
    "## Regressão linear"
   ]
  },
  {
   "cell_type": "code",
   "execution_count": null,
   "id": "5e1b3ac5-18c0-4f17-a5ef-4acca6aa34e6",
   "metadata": {},
   "outputs": [],
   "source": []
  },
  {
   "cell_type": "code",
   "execution_count": null,
   "id": "a07c5dc9-6e54-4cdd-a0b4-86baf7be93dc",
   "metadata": {},
   "outputs": [],
   "source": []
  }
 ],
 "metadata": {
  "kernelspec": {
   "display_name": "Python 3 (ipykernel)",
   "language": "python",
   "name": "python3"
  },
  "language_info": {
   "codemirror_mode": {
    "name": "ipython",
    "version": 3
   },
   "file_extension": ".py",
   "mimetype": "text/x-python",
   "name": "python",
   "nbconvert_exporter": "python",
   "pygments_lexer": "ipython3",
   "version": "3.9.17"
  }
 },
 "nbformat": 4,
 "nbformat_minor": 5
}
